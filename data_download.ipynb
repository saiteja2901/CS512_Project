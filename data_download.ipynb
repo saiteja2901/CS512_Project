{
 "cells": [
  {
   "cell_type": "code",
   "execution_count": 1,
   "metadata": {},
   "outputs": [],
   "source": [
    "import wget\n",
    "import tarfile\n",
    "import sys\n",
    "import requests"
   ]
  },
  {
   "cell_type": "code",
   "execution_count": 2,
   "metadata": {},
   "outputs": [],
   "source": [
    "def download_data(url, filename):\n",
    "    print(f\"Downloading file from {url}\")\n",
    "    with open(filename, 'wb') as f:\n",
    "        with requests.get(url, stream = True) as resp:\n",
    "            for chunk in resp.iter_content(chunk_size = 1024):\n",
    "                if chunk:\n",
    "                    f.write(chunk)\n",
    "    print(f\"Extracting {filename}\")\n",
    "    with tarfile.open(filename, 'r') as file:\n",
    "        file.extractall(\"./dataset\")\n"
   ]
  },
  {
   "cell_type": "code",
   "execution_count": 3,
   "metadata": {},
   "outputs": [
    {
     "name": "stdout",
     "output_type": "stream",
     "text": [
      "Downloading train data\n",
      "Downloading file from http://data.csail.mit.edu/places/places365/train_256_places365standard.tar\n",
      "Extracting train.tar\n",
      "Downloading validation data\n",
      "Downloading file from http://data.csail.mit.edu/places/places365/val_256.tar\n",
      "Extracting val.tar\n",
      "Downloading test data\n",
      "Downloading file from http://data.csail.mit.edu/places/places365/test_256.tar\n",
      "Extracting test.tar\n"
     ]
    }
   ],
   "source": [
    "print(\"Downloading train data\")\n",
    "download_data(\"http://data.csail.mit.edu/places/places365/train_256_places365standard.tar\", \"train.tar\")\n",
    "print(\"Downloading validation data\")\n",
    "download_data(\"http://data.csail.mit.edu/places/places365/val_256.tar\", \"val.tar\")\n",
    "print(\"Downloading test data\")\n",
    "download_data(\"http://data.csail.mit.edu/places/places365/test_256.tar\", \"test.tar\")\n"
   ]
  },
  {
   "cell_type": "code",
   "execution_count": null,
   "metadata": {},
   "outputs": [],
   "source": []
  }
 ],
 "metadata": {
  "interpreter": {
   "hash": "989ae11cb2292716a574e22c7fb49bae61a301846b4f7d979515ec6e8c51cf58"
  },
  "kernelspec": {
   "display_name": "Python 3.10.4 64-bit",
   "language": "python",
   "name": "python3"
  },
  "language_info": {
   "codemirror_mode": {
    "name": "ipython",
    "version": 3
   },
   "file_extension": ".py",
   "mimetype": "text/x-python",
   "name": "python",
   "nbconvert_exporter": "python",
   "pygments_lexer": "ipython3",
   "version": "3.10.4"
  },
  "orig_nbformat": 4
 },
 "nbformat": 4,
 "nbformat_minor": 2
}
